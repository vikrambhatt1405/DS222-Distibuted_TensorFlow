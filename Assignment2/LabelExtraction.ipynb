{
 "cells": [
  {
   "cell_type": "code",
   "execution_count": 1,
   "metadata": {},
   "outputs": [],
   "source": [
    "import pickle"
   ]
  },
  {
   "cell_type": "code",
   "execution_count": 2,
   "metadata": {},
   "outputs": [],
   "source": [
    "def save_obj(obj, name ):\n",
    "    with open('obj/'+ name + '.pkl', 'wb') as f:\n",
    "        pickle.dump(obj, f, pickle.HIGHEST_PROTOCOL)\n",
    "\n",
    "def load_obj(name ):\n",
    "    with open('obj/' + name + '.pkl', 'rb') as f:\n",
    "        return pickle.load(f)"
   ]
  },
  {
   "cell_type": "code",
   "execution_count": 5,
   "metadata": {},
   "outputs": [],
   "source": [
    "train_index_label_dictionary=dict()\n",
    "with open(\"DBPedia.verysmall/verysmall_train.txt\",'r') as file:\n",
    "    line = file.readline()\n",
    "    index=0\n",
    "    while True:\n",
    "        parts = [p for p in line.split(\"\\t\")]\n",
    "        train_index_label_dictionary[index]=parts[0]\n",
    "        line = file.readline()\n",
    "        index += 1\n",
    "        if not line:\n",
    "            break"
   ]
  },
  {
   "cell_type": "code",
   "execution_count": 8,
   "metadata": {},
   "outputs": [],
   "source": [
    "test_index_label_dictionary=dict()\n",
    "with open(\"DBPedia.verysmall/verysmall_test.txt\",'r') as file:\n",
    "    line = file.readline()\n",
    "    index=0\n",
    "    while True:\n",
    "        parts = [p for p in line.split(\"\\t\")]\n",
    "        test_index_label_dictionary[index]=parts[0]\n",
    "        line = file.readline()\n",
    "        index += 1\n",
    "        if not line:\n",
    "            break"
   ]
  },
  {
   "cell_type": "code",
   "execution_count": 10,
   "metadata": {},
   "outputs": [],
   "source": [
    "devel_index_label_dictionary=dict()\n",
    "with open(\"DBPedia.verysmall/verysmall_devel.txt\",'r') as file:\n",
    "    line = file.readline()\n",
    "    index=0\n",
    "    while True:\n",
    "        parts = [p for p in line.split(\"\\t\")]\n",
    "        devel_index_label_dictionary[index]=parts[0]\n",
    "        line = file.readline()\n",
    "        index += 1\n",
    "        if not line:\n",
    "            break"
   ]
  },
  {
   "cell_type": "code",
   "execution_count": 12,
   "metadata": {},
   "outputs": [],
   "source": [
    "save_obj(train_index_label_dictionary,\"TrainIndextoLabelDictionary\")\n",
    "save_obj(test_index_label_dictionary,\"TestIndextoLabelDictionary\")\n",
    "save_obj(devel_index_label_dictionary,\"DevelIndextoLabelDictionary\")"
   ]
  },
  {
   "cell_type": "code",
   "execution_count": 14,
   "metadata": {},
   "outputs": [
    {
     "data": {
      "text/plain": [
       "3000"
      ]
     },
     "execution_count": 14,
     "metadata": {},
     "output_type": "execute_result"
    }
   ],
   "source": [
    "len(devel_index_label_dictionary)"
   ]
  },
  {
   "cell_type": "code",
   "execution_count": 15,
   "metadata": {},
   "outputs": [
    {
     "data": {
      "text/plain": [
       "1500"
      ]
     },
     "execution_count": 15,
     "metadata": {},
     "output_type": "execute_result"
    }
   ],
   "source": [
    "len(test_index_label_dictionary)"
   ]
  },
  {
   "cell_type": "code",
   "execution_count": 16,
   "metadata": {},
   "outputs": [
    {
     "data": {
      "text/plain": [
       "10500"
      ]
     },
     "execution_count": 16,
     "metadata": {},
     "output_type": "execute_result"
    }
   ],
   "source": [
    "len(train_index_label_dictionary)"
   ]
  },
  {
   "cell_type": "code",
   "execution_count": null,
   "metadata": {},
   "outputs": [],
   "source": []
  }
 ],
 "metadata": {
  "kernelspec": {
   "display_name": "Python 3",
   "language": "python",
   "name": "python3"
  },
  "language_info": {
   "codemirror_mode": {
    "name": "ipython",
    "version": 3
   },
   "file_extension": ".py",
   "mimetype": "text/x-python",
   "name": "python",
   "nbconvert_exporter": "python",
   "pygments_lexer": "ipython3",
   "version": "3.6.4"
  }
 },
 "nbformat": 4,
 "nbformat_minor": 2
}
