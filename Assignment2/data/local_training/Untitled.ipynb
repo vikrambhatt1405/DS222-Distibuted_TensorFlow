{
 "cells": [
  {
   "cell_type": "code",
   "execution_count": 1,
   "metadata": {},
   "outputs": [],
   "source": [
    "import matplotlib.pyplot as plt\n",
    "import csv\n",
    "f=plt.figure()\n",
    "\n",
    "x_devel = []\n",
    "y_devel = []\n",
    "\n",
    "with open('run_logreg-run-20181030093402_devel-tag-logistic_regression_train_Cross-Entropy_Loss.csv','r') as csvfile:\n",
    "    plots = csv.reader(csvfile, delimiter=',')\n",
    "    next(plots,None)\n",
    "    for row in plots:\n",
    "        x_devel.append(float(row[1]))\n",
    "        y_devel.append(float(row[2]))\n",
    "x_test = []\n",
    "y_test = []\n",
    "\n",
    "with open('run_logreg-run-20181030093402_test-tag-logistic_regression_train_Cross-Entropy_Loss.csv','r') as csvfile:\n",
    "    plots = csv.reader(csvfile, delimiter=',')\n",
    "    next(plots,None)\n",
    "    for row in plots:\n",
    "        x_test.append(float(row[1]))\n",
    "        y_test.append(float(row[2]))\n",
    "y_train = []\n",
    "x_train=[]\n",
    "with open('run_logreg-run-20181030093402_train-tag-logistic_regression_train_Cross-Entropy_Loss.csv','r') as csvfile:\n",
    "    plots = csv.reader(csvfile, delimiter=',')\n",
    "    next(plots,None)\n",
    "    for row in plots:\n",
    "        x_train.append(float(row[1]))\n",
    "        y_train.append(float(row[2]))\n",
    "plt.plot(x_devel,y_devel,label='Developlment set loss')\n",
    "plt.plot(x_test,y_test,label='Test set loss')\n",
    "plt.plot(x_train,y_train,label='Training set loss')\n",
    "plt.xlabel('Epochs')\n",
    "plt.ylabel('Loss')\n",
    "plt.title('Loss vs epochs')\n",
    "plt.legend()\n",
    "f.savefig(\"Local_train.pdf\",bbox_inches='tight')"
   ]
  },
  {
   "cell_type": "code",
   "execution_count": null,
   "metadata": {},
   "outputs": [],
   "source": []
  }
 ],
 "metadata": {
  "kernelspec": {
   "display_name": "Python 3",
   "language": "python",
   "name": "python3"
  },
  "language_info": {
   "codemirror_mode": {
    "name": "ipython",
    "version": 3
   },
   "file_extension": ".py",
   "mimetype": "text/x-python",
   "name": "python",
   "nbconvert_exporter": "python",
   "pygments_lexer": "ipython3",
   "version": "3.6.6"
  }
 },
 "nbformat": 4,
 "nbformat_minor": 2
}
