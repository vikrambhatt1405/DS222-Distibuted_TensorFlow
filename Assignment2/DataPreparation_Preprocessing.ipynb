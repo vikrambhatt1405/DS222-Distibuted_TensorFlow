{
 "cells": [
  {
   "cell_type": "code",
   "execution_count": 1,
   "metadata": {},
   "outputs": [],
   "source": [
    "import tensorflow as tf\n",
    "import numpy as np\n",
    "from tensorflow import keras\n",
    "import matplotlib.pyplot as plt\n",
    "import gensim\n",
    "import os\n",
    "import collections\n",
    "import smart_open\n",
    "import random\n",
    "import pickle\n",
    "%matplotlib inline"
   ]
  },
  {
   "cell_type": "code",
   "execution_count": 2,
   "metadata": {},
   "outputs": [],
   "source": [
    "from gensim.models.doc2vec import Doc2Vec\n",
    "def save_obj(obj, name ):\n",
    "    with open('obj/'+ name + '.pkl', 'wb') as f:\n",
    "        pickle.dump(obj, f, pickle.HIGHEST_PROTOCOL)\n",
    "\n",
    "def load_obj(name ):\n",
    "    with open('obj/' + name + '.pkl', 'rb') as f:\n",
    "        return pickle.load(f)"
   ]
  },
  {
   "cell_type": "code",
   "execution_count": 3,
   "metadata": {},
   "outputs": [],
   "source": [
    "model=Doc2Vec.load(\"Train_Corupus.model\")"
   ]
  },
  {
   "cell_type": "code",
   "execution_count": 4,
   "metadata": {},
   "outputs": [],
   "source": [
    "trainIndexLabelDictionary=load_obj(\"TrainIndextoLabelDictionary\")\n",
    "testIndexLabelDictionary=load_obj(\"TestIndextoLabelDictionary\")\n",
    "develIndexLabelDictionary=load_obj(\"DevelIndextoLabelDictionary\")"
   ]
  },
  {
   "cell_type": "code",
   "execution_count": 5,
   "metadata": {},
   "outputs": [],
   "source": [
    "unique_labels = set()\n",
    "for val in trainIndexLabelDictionary.values():\n",
    "    labels=val.split(\",\")\n",
    "    for label in labels:\n",
    "        unique_labels.add(label.rstrip())\n",
    "n_classes=len(unique_labels)"
   ]
  },
  {
   "cell_type": "code",
   "execution_count": 6,
   "metadata": {},
   "outputs": [],
   "source": [
    "uniqueLabelsToIndexMapping=dict()\n",
    "for i,label in enumerate(unique_labels):\n",
    "    uniqueLabelsToIndexMapping[label]=i"
   ]
  },
  {
   "cell_type": "code",
   "execution_count": 7,
   "metadata": {},
   "outputs": [],
   "source": [
    "trainIndextoLabelIndexMap=dict()\n",
    "for key,value in trainIndexLabelDictionary.items():\n",
    "    dict_value=[uniqueLabelsToIndexMapping[label.rstrip()] for label in value.split(\",\")]\n",
    "    trainIndextoLabelIndexMap[key]= dict_value"
   ]
  },
  {
   "cell_type": "code",
   "execution_count": 8,
   "metadata": {},
   "outputs": [],
   "source": [
    "testIndextoLabelIndexMap=dict()\n",
    "for key,value in testIndexLabelDictionary.items():\n",
    "    dict_value=[uniqueLabelsToIndexMapping[label.rstrip()] for label in value.split(\",\")]\n",
    "    testIndextoLabelIndexMap[key]= dict_value"
   ]
  },
  {
   "cell_type": "code",
   "execution_count": 9,
   "metadata": {},
   "outputs": [],
   "source": [
    "develIndextoLabelIndexMap=dict()\n",
    "for key,value in testIndexLabelDictionary.items():\n",
    "    dict_value=[uniqueLabelsToIndexMapping[label.rstrip()] for label in value.split(\",\")]\n",
    "    develIndextoLabelIndexMap[key]= dict_value"
   ]
  },
  {
   "cell_type": "code",
   "execution_count": 10,
   "metadata": {},
   "outputs": [],
   "source": [
    "uniqueIndexToLabelsMapping={v:k for k,v in uniqueLabelsToIndexMapping.items()}"
   ]
  },
  {
   "cell_type": "code",
   "execution_count": 11,
   "metadata": {},
   "outputs": [],
   "source": [
    "del trainIndexLabelDictionary,testIndexLabelDictionary,develIndexLabelDictionary\n",
    "del unique_labels,uniqueLabelsToIndexMapping"
   ]
  },
  {
   "cell_type": "code",
   "execution_count": 12,
   "metadata": {},
   "outputs": [],
   "source": [
    "def createTrainData(model,n_classes,trainIndextoLabelIndexMap):\n",
    "    X_train=model.docvecs[0].reshape(1,-1)\n",
    "    y_train=np.zeros((1,n_classes),dtype=np.int)\n",
    "    y_train[:,trainIndextoLabelIndexMap[0][0]]=1\n",
    "    for i in range(1,model.corpus_count):\n",
    "        labelIndices=trainIndextoLabelIndexMap[i]\n",
    "        for j in range(len(labelIndices)):\n",
    "            X_train=np.r_[X_train,model.docvecs[i].reshape(1,-1)]\n",
    "            addendum=np.zeros((1,n_classes))\n",
    "            addendum[:,labelIndices[j]]=1\n",
    "            y_train=np.r_[y_train,addendum]\n",
    "    np.save(\"obj/X_train.npy\",X_train)\n",
    "    np.save(\"obj/y_train.npy\",y_train)\n",
    "    return True"
   ]
  },
  {
   "cell_type": "code",
   "execution_count": 13,
   "metadata": {},
   "outputs": [
    {
     "name": "stdout",
     "output_type": "stream",
     "text": [
      "Training data created successfully\n",
      "\n"
     ]
    }
   ],
   "source": [
    "if createTrainData(model,n_classes,trainIndextoLabelIndexMap):\n",
    "    print(\"Training data created successfully\\n\")\n",
    "else:\n",
    "    print(\"Error!Check the code\")"
   ]
  },
  {
   "cell_type": "code",
   "execution_count": 14,
   "metadata": {},
   "outputs": [],
   "source": [
    "X_train=np.load(\"obj/X_train.npy\")\n",
    "y_train=np.load(\"obj/y_train.npy\")"
   ]
  },
  {
   "cell_type": "code",
   "execution_count": 15,
   "metadata": {},
   "outputs": [
    {
     "name": "stdout",
     "output_type": "stream",
     "text": [
      "Training data shape:(14823, 100)\n",
      "Training labels shape:(14823, 49)\n",
      "0.0\n"
     ]
    }
   ],
   "source": [
    "print(\"Training data shape:{}\".format(X_train.shape))\n",
    "print(\"Training labels shape:{}\".format(y_train.shape))\n",
    "print(y_train[1][16])\n",
    "del X_train,y_train"
   ]
  },
  {
   "cell_type": "code",
   "execution_count": 16,
   "metadata": {},
   "outputs": [
    {
     "name": "stdout",
     "output_type": "stream",
     "text": [
      "[['alfr', 'santel', 'american', 'film', 'director', 'born', 'septemb', 'san', 'francisco', 'california', 'santel', 'direct', 'film', 'begin', 'two', 'reel', 'comedi', 'short', 'subject', 'hal', 'roach', 'product', 'compani', 'take', 'featur', 'film', 'santel', 'work', 'sever', 'major', 'studio', 'left', 'busi', 'die', 'june', 'salina', 'california'], ['niob', 'na', 'bi', 'ny', 'bee', 'larg', 'slowli', 'rotat', 'main', 'belt', 'asteroid', 'discov', 'german', 'astronom', 'robert', 'luther', 'august', 'name', 'niob', 'charact', 'greek', 'mytholog', 'bright', 'asteroid', 'shown', 'vari', 'german', 'astronom', 'friedrich', 'tietjen', 'examin', 'radar', 'use', 'arecibo', 'observatori', 'radio', 'telescop', 'puerto', 'rico', 'supplement', 'optic', 'observ', 'intend', 'build', 'lightcurv', 'result', 'estim', 'rotat', 'period', 'hour', 'earth', 'day', 'supersed', 'earlier', 'estim', 'rotat', 'period', 'hour', 'radar', 'data', 'produc', 'estim', 'maximum', 'equatori', 'diamet', 'km', 'consist', 'earlier', 'estim', 'base', 'upon', 'infrar', 'data', 'shape', 'assum', 'slightli', 'elong', 'rotat', 'period', 'refin', 'hour', 'observ', 'six', 'stellar', 'occult', 'asteroid', 'produc', 'chord', 'rang', 'km', 'statist', 'consist', 'publish', 'maximum', 'diamet', 'estim']]\n"
     ]
    }
   ],
   "source": [
    "testCorpus=load_obj(\"TestCorpus\")\n",
    "print(testCorpus[:2])"
   ]
  },
  {
   "cell_type": "code",
   "execution_count": 17,
   "metadata": {},
   "outputs": [],
   "source": [
    "def createTestData(model,test_corpus,n_classes,testIndextoLabelIndexMap):\n",
    "    testCorpus=load_obj(test_corpus)\n",
    "    m = len(testCorpus)\n",
    "    X_test=model.infer_vector(testCorpus[0]).reshape(1,-1)\n",
    "    y_test=np.zeros((1,n_classes))\n",
    "    y_test[:,testIndextoLabelIndexMap[0][0]]=1\n",
    "    for i in range(1,m):\n",
    "        labelIndices=testIndextoLabelIndexMap[i]\n",
    "        for j in labelIndices:\n",
    "            X_test=np.r_[X_test,model.infer_vector(testCorpus[i]).reshape(1,-1)]\n",
    "            addendum=np.zeros((1,n_classes),dtype=np.int)\n",
    "            addendum[:,j]=1\n",
    "            y_test=np.r_[y_test,addendum]\n",
    "    np.save(\"obj/X_test.npy\",X_test)\n",
    "    np.save(\"obj/y_test.npy\",y_test)\n",
    "    return True"
   ]
  },
  {
   "cell_type": "code",
   "execution_count": 18,
   "metadata": {},
   "outputs": [
    {
     "name": "stdout",
     "output_type": "stream",
     "text": [
      "Test data successfully created\n"
     ]
    }
   ],
   "source": [
    "if createTestData(model,\"TestCorpus\",n_classes,testIndextoLabelIndexMap):\n",
    "    print(\"Test data successfully created\")\n",
    "else:\n",
    "    print(\"Check your code!!\\n\")"
   ]
  },
  {
   "cell_type": "code",
   "execution_count": 19,
   "metadata": {},
   "outputs": [],
   "source": [
    "X_test=np.load(\"obj/X_test.npy\")\n",
    "y_test=np.load(\"obj/y_test.npy\")"
   ]
  },
  {
   "cell_type": "code",
   "execution_count": 20,
   "metadata": {},
   "outputs": [
    {
     "name": "stdout",
     "output_type": "stream",
     "text": [
      "Test data shape:(1998, 100)\n",
      "Test labels shape:(1998, 49)\n",
      "[[0. 0. 0. 0. 0. 0. 0. 0. 0. 0. 0. 0. 0. 0. 0. 0. 0. 0. 0. 0. 0. 0. 0. 0.\n",
      "  0. 0. 0. 0. 0. 0. 0. 0. 0. 0. 0. 0. 0. 0. 0. 0. 0. 0. 0. 0. 0. 0. 1. 0.\n",
      "  0.]\n",
      " [0. 0. 0. 0. 0. 0. 0. 0. 1. 0. 0. 0. 0. 0. 0. 0. 0. 0. 0. 0. 0. 0. 0. 0.\n",
      "  0. 0. 0. 0. 0. 0. 0. 0. 0. 0. 0. 0. 0. 0. 0. 0. 0. 0. 0. 0. 0. 0. 0. 0.\n",
      "  0.]]\n"
     ]
    }
   ],
   "source": [
    "print(\"Test data shape:{}\".format(X_test.shape))\n",
    "print(\"Test labels shape:{}\".format(y_test.shape))\n",
    "print(y_test[:2])\n",
    "del X_test,y_test"
   ]
  },
  {
   "cell_type": "code",
   "execution_count": 21,
   "metadata": {},
   "outputs": [],
   "source": [
    "def createDevelData(model,test_corpus,n_classes,develIndextoLabelIndexMap):\n",
    "    develCorpus=load_obj(test_corpus)\n",
    "    m = len(develCorpus)\n",
    "    X_test=model.infer_vector(develCorpus[0]).reshape(1,-1)\n",
    "    y_test=np.zeros((1,n_classes))\n",
    "    y_test[:,develIndextoLabelIndexMap[0][0]]=1\n",
    "    for i in range(1,m):\n",
    "        labelIndices=develIndextoLabelIndexMap[i]\n",
    "        for j in labelIndices:\n",
    "            X_test=np.r_[X_test,model.infer_vector(develCorpus[i]).reshape(1,-1)]\n",
    "            addendum=np.zeros((1,n_classes),dtype=np.int)\n",
    "            addendum[:,j]=1\n",
    "            y_test=np.r_[y_test,addendum]\n",
    "    np.save(\"obj/X_devel.npy\",X_test)\n",
    "    np.save(\"obj/y_devel.npy\",y_test)\n",
    "    return True"
   ]
  },
  {
   "cell_type": "code",
   "execution_count": 22,
   "metadata": {},
   "outputs": [
    {
     "name": "stdout",
     "output_type": "stream",
     "text": [
      "Test data successfully created\n"
     ]
    }
   ],
   "source": [
    "if createDevelData(model,\"TestCorpus\",n_classes,testIndextoLabelIndexMap):\n",
    "    print(\"Test data successfully created\")\n",
    "else:\n",
    "    print(\"Check your code!!\\n\")"
   ]
  },
  {
   "cell_type": "code",
   "execution_count": 23,
   "metadata": {},
   "outputs": [],
   "source": [
    "X_devel=np.load(\"obj/X_devel.npy\")\n",
    "y_devel=np.load(\"obj/y_devel.npy\")"
   ]
  },
  {
   "cell_type": "code",
   "execution_count": 24,
   "metadata": {},
   "outputs": [
    {
     "name": "stdout",
     "output_type": "stream",
     "text": [
      "Dev data shape:(1998, 100)\n",
      "Dev labels shape:(1998, 49)\n",
      "[[0. 0. 0. 0. 0. 0. 0. 0. 0. 0. 0. 0. 0. 0. 0. 0. 0. 0. 0. 0. 0. 0. 0. 0.\n",
      "  0. 0. 0. 0. 0. 0. 0. 0. 0. 0. 0. 0. 0. 0. 0. 0. 0. 0. 0. 0. 0. 0. 1. 0.\n",
      "  0.]\n",
      " [0. 0. 0. 0. 0. 0. 0. 0. 1. 0. 0. 0. 0. 0. 0. 0. 0. 0. 0. 0. 0. 0. 0. 0.\n",
      "  0. 0. 0. 0. 0. 0. 0. 0. 0. 0. 0. 0. 0. 0. 0. 0. 0. 0. 0. 0. 0. 0. 0. 0.\n",
      "  0.]]\n"
     ]
    }
   ],
   "source": [
    "print(\"Dev data shape:{}\".format(X_devel.shape))\n",
    "print(\"Dev labels shape:{}\".format(y_devel.shape))\n",
    "print(y_devel[:2])\n",
    "del X_devel,y_devel"
   ]
  },
  {
   "cell_type": "code",
   "execution_count": null,
   "metadata": {},
   "outputs": [],
   "source": []
  }
 ],
 "metadata": {
  "kernelspec": {
   "display_name": "Python 3",
   "language": "python",
   "name": "python3"
  },
  "language_info": {
   "codemirror_mode": {
    "name": "ipython",
    "version": 3
   },
   "file_extension": ".py",
   "mimetype": "text/x-python",
   "name": "python",
   "nbconvert_exporter": "python",
   "pygments_lexer": "ipython3",
   "version": "3.6.4"
  }
 },
 "nbformat": 4,
 "nbformat_minor": 2
}
