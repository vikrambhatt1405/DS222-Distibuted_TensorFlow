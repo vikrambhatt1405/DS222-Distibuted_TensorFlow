{
 "cells": [
  {
   "cell_type": "code",
   "execution_count": 1,
   "metadata": {},
   "outputs": [],
   "source": [
    "import gensim\n",
    "import os\n",
    "import collections\n",
    "import smart_open\n",
    "import random\n",
    "import pickle"
   ]
  },
  {
   "cell_type": "code",
   "execution_count": 2,
   "metadata": {},
   "outputs": [],
   "source": [
    "import re\n",
    "import nltk\n",
    "import sys\n",
    "from nltk.stem import *\n",
    "from nltk.corpus import stopwords"
   ]
  },
  {
   "cell_type": "code",
   "execution_count": 3,
   "metadata": {},
   "outputs": [],
   "source": [
    "def save_obj(obj, name ):\n",
    "    with open('obj/'+ name + '.pkl', 'wb') as f:\n",
    "        pickle.dump(obj, f, pickle.HIGHEST_PROTOCOL)\n",
    "\n",
    "def load_obj(name ):\n",
    "    with open('obj/' + name + '.pkl', 'rb') as f:\n",
    "        return pickle.load(f)"
   ]
  },
  {
   "cell_type": "code",
   "execution_count": 4,
   "metadata": {},
   "outputs": [],
   "source": [
    "def process(parts):\n",
    "    for part in parts:\n",
    "            pattern = r'^<.*> <.*> \"'\n",
    "            for p in re.findall(pattern,part):\n",
    "                part = part.replace(p,' ').lower()\n",
    "            pattern = r'\"@.*$'\n",
    "            for p in re.findall(pattern,part):\n",
    "                part = part.replace(p,' ')\n",
    "            pattern = r'\\\\u[0-9]*'\n",
    "            for p in re.findall(pattern,part):\n",
    "                part = part.replace(p,' ')\n",
    "            pattern = r'([^a-zA-Z_ ])'#'|()'\n",
    "            for p in re.findall(pattern,part):\n",
    "                part = part.replace(p,' ')\n",
    "            pattern = r' [a-zA-Z]{1} '\n",
    "            for p in re.findall(pattern,part):\n",
    "                part = part.replace(p,' ')\n",
    "            pattern = r' [a-zA-Z]{1}$'\n",
    "            for p in re.findall(pattern,part):\n",
    "                part = part.replace(p,' ')\n",
    "            pattern = r'^[a-zA-Z]{1} '\n",
    "            for p in re.findall(pattern,part):\n",
    "                part = part.replace(p,' ')\n",
    "\n",
    "    return part"
   ]
  },
  {
   "cell_type": "code",
   "execution_count": 5,
   "metadata": {},
   "outputs": [],
   "source": [
    "def custom_preprocess(line):\n",
    "    stopwords_list=stopwords.words(\"english\")\n",
    "    stemmer = PorterStemmer()\n",
    "    parts = [p for p in line.split(\"\\t\")]\n",
    "    article_text = process(parts[1:])\n",
    "    article_text = article_text.rstrip()\n",
    "    article=[]\n",
    "    for label in parts[0].split(\",\"):\n",
    "        for word in article_text.split(\" \"):\n",
    "            if(word.rstrip()!=\"\" and not word in stopwords_list):\n",
    "                article.append(stemmer.stem(word))\n",
    "    return \" \".join(article)"
   ]
  },
  {
   "cell_type": "code",
   "execution_count": 6,
   "metadata": {},
   "outputs": [],
   "source": [
    "def read_corpus(fname, tokens_only=False):\n",
    "    with smart_open.smart_open(fname, encoding=\"iso-8859-1\") as f:\n",
    "        for i, line in enumerate(f):\n",
    "            if tokens_only:\n",
    "                refined_line = custom_preprocess(line)\n",
    "                yield gensim.utils.simple_preprocess(refined_line)\n",
    "            else:\n",
    "                # For training data, add tags\n",
    "                refined_line = custom_preprocess(line)\n",
    "                yield gensim.models.doc2vec.TaggedDocument(gensim.utils.simple_preprocess(refined_line), [i])"
   ]
  },
  {
   "cell_type": "code",
   "execution_count": 7,
   "metadata": {},
   "outputs": [],
   "source": [
    "train_filename=r\"/home/vikrambhatt/Academics/Machine Learning with Large datasets/Assignment2/DBPedia.verysmall/verysmall_train.txt\"\n",
    "test_filename=r\"/home/vikrambhatt/Academics/Machine Learning with Large datasets/Assignment2/DBPedia.verysmall/verysmall_test.txt\"\n",
    "dev_filename=r\"/home/vikrambhatt/Academics/Machine Learning with Large datasets/Assignment2/DBPedia.verysmall/verysmall_devel.txt\""
   ]
  },
  {
   "cell_type": "code",
   "execution_count": 8,
   "metadata": {},
   "outputs": [],
   "source": [
    "train_corpus = list(read_corpus(train_filename))\n",
    "test_corpus=list(read_corpus(test_filename,True))\n",
    "dev_corpus =list(read_corpus(dev_filename, True))"
   ]
  },
  {
   "cell_type": "code",
   "execution_count": 9,
   "metadata": {},
   "outputs": [],
   "source": [
    "model = gensim.models.doc2vec.Doc2Vec(vector_size=100, min_count=2, epochs=40)"
   ]
  },
  {
   "cell_type": "code",
   "execution_count": 10,
   "metadata": {},
   "outputs": [],
   "source": [
    "model.build_vocab(train_corpus)"
   ]
  },
  {
   "cell_type": "code",
   "execution_count": 11,
   "metadata": {},
   "outputs": [
    {
     "name": "stdout",
     "output_type": "stream",
     "text": [
      "CPU times: user 1min 16s, sys: 1.62 s, total: 1min 18s\n",
      "Wall time: 29.7 s\n"
     ]
    }
   ],
   "source": [
    "%time model.train(train_corpus, total_examples=model.corpus_count, epochs=model.epochs)"
   ]
  },
  {
   "cell_type": "code",
   "execution_count": 12,
   "metadata": {},
   "outputs": [],
   "source": [
    "model.save(\"Train_Corupus.model\")\n",
    "save_obj(test_corpus,\"TestCorpus\")\n",
    "save_obj(dev_corpus,\"DevCorpus\")"
   ]
  },
  {
   "cell_type": "code",
   "execution_count": 14,
   "metadata": {},
   "outputs": [],
   "source": [
    "save_obj(train_corpus,\"TrainCorpus\")"
   ]
  }
 ],
 "metadata": {
  "kernelspec": {
   "display_name": "Python 3",
   "language": "python",
   "name": "python3"
  },
  "language_info": {
   "codemirror_mode": {
    "name": "ipython",
    "version": 3
   },
   "file_extension": ".py",
   "mimetype": "text/x-python",
   "name": "python",
   "nbconvert_exporter": "python",
   "pygments_lexer": "ipython3",
   "version": "3.6.4"
  }
 },
 "nbformat": 4,
 "nbformat_minor": 2
}
