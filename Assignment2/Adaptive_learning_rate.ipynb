{
 "cells": [
  {
   "cell_type": "code",
   "execution_count": 1,
   "metadata": {},
   "outputs": [
    {
     "name": "stderr",
     "output_type": "stream",
     "text": [
      "/usr/lib/python3/dist-packages/h5py/__init__.py:36: FutureWarning: Conversion of the second argument of issubdtype from `float` to `np.floating` is deprecated. In future, it will be treated as `np.float64 == np.dtype(float).type`.\n",
      "  from ._conv import register_converters as _register_converters\n"
     ]
    },
    {
     "data": {
      "text/plain": [
       "'%.3f'"
      ]
     },
     "execution_count": 1,
     "metadata": {},
     "output_type": "execute_result"
    }
   ],
   "source": [
    "import tensorflow as tf\n",
    "import numpy as np\n",
    "import matplotlib.pyplot as plt\n",
    "import seaborn as sns\n",
    "sns.set_style(\"darkgrid\")\n",
    "import pickle\n",
    "import os\n",
    "import time\n",
    "from sklearn.metrics import recall_score,precision_score,accuracy_score\n",
    "%precision 3"
   ]
  },
  {
   "cell_type": "code",
   "execution_count": 2,
   "metadata": {},
   "outputs": [],
   "source": [
    "def logistic_regression(X, y,n_classes,initializer=None,seed=42,starter_learning_rate=0.1):\n",
    "    n_inputs_including_bias = int(X.shape[1])\n",
    "    with tf.name_scope(\"logistic_regression\"):\n",
    "        with tf.name_scope(\"model\"):\n",
    "            if initializer is None:\n",
    "                initializer = tf.random_uniform([n_inputs_including_bias, n_classes], -1.0, 1.0, seed=seed)\n",
    "            theta = tf.Variable(initializer, name=\"theta\")\n",
    "            logits = tf.matmul(X, theta, name=\"logits\")\n",
    "        with tf.name_scope(\"train\"):\n",
    "            global_step = tf.Variable(0, trainable=False)\n",
    "            learning_rate = tf.train.exponential_decay(starter_learning_rate, global_step,\n",
    "                                           10000, 100, staircase=True)\n",
    "            loss = tf.reduce_mean(tf.nn.softmax_cross_entropy_with_logits( \n",
    "                        labels=y, logits=logits)+beta*tf.nn.l2_loss(theta))             \n",
    "            optimizer = tf.train.GradientDescentOptimizer(learning_rate=learning_rate)\n",
    "            training_op = optimizer.minimize(loss,global_step=global_step)\n",
    "            loss_summary = tf.summary.scalar('Cross_Entropy_Loss', loss)\n",
    "            lr_summary=tf.summary.scalar(\"Learning_Rate\",learning_rate)\n",
    "            merged=tf.summary.merge_all()\n",
    "        with tf.name_scope(\"init\"):\n",
    "            init = tf.global_variables_initializer()\n",
    "        with tf.name_scope(\"save\"):\n",
    "            saver = tf.train.Saver()\n",
    "    return loss, training_op,merged, init, saver,logits"
   ]
  },
  {
   "cell_type": "code",
   "execution_count": 3,
   "metadata": {},
   "outputs": [],
   "source": [
    "from datetime import datetime\n",
    "\n",
    "def log_dir(prefix=\"\"):\n",
    "    now = datetime.utcnow().strftime(\"%Y%m%d%H%M%S\")\n",
    "    root_logdir = \"tf_logs\"\n",
    "    if prefix:\n",
    "        prefix += \"-\"\n",
    "    name = prefix + \"run-\" + now\n",
    "    return \"{}/{}/\".format(root_logdir, name)"
   ]
  },
  {
   "cell_type": "code",
   "execution_count": 4,
   "metadata": {},
   "outputs": [],
   "source": [
    "X_train=np.load(\"obj/X_train.npy\")\n",
    "y_train=np.load(\"obj/y_train.npy\")\n",
    "X_test=np.load(\"obj/X_test.npy\")\n",
    "y_test=np.load(\"obj/y_test.npy\")\n",
    "X_devel=np.load(\"obj/X_devel.npy\")\n",
    "y_devel=np.load(\"obj/y_devel.npy\")"
   ]
  },
  {
   "cell_type": "code",
   "execution_count": 5,
   "metadata": {},
   "outputs": [],
   "source": [
    "def random_batch(X_train, y_train, batch_size):\n",
    "    rnd_indices = np.random.randint(0, len(X_train), batch_size)\n",
    "    X_batch = X_train[rnd_indices]\n",
    "    y_batch = y_train[rnd_indices]\n",
    "    return X_batch, y_batch"
   ]
  },
  {
   "cell_type": "code",
   "execution_count": 6,
   "metadata": {},
   "outputs": [],
   "source": [
    "def add_biastomatrix(*args):\n",
    "    matrices=[]\n",
    "    for X in args:\n",
    "        m=X.shape[0]\n",
    "        X=np.c_[np.ones((m,1)),X]\n",
    "        matrices.append(X)\n",
    "    return tuple(matrices)\n"
   ]
  },
  {
   "cell_type": "code",
   "execution_count": 7,
   "metadata": {},
   "outputs": [],
   "source": [
    "(X_train_withbias,X_test_withbias,X_devel_withbias)=add_biastomatrix(X_train,X_test,X_devel)"
   ]
  },
  {
   "cell_type": "code",
   "execution_count": 8,
   "metadata": {},
   "outputs": [
    {
     "name": "stdout",
     "output_type": "stream",
     "text": [
      "Train data with bias shape:(14823, 101)\n",
      "Test data with bias shape:(1998, 101)\n",
      "Development data with bias shape:(1998, 101)\n"
     ]
    }
   ],
   "source": [
    "print(\"Train data with bias shape:{}\".format(X_train_withbias.shape))\n",
    "print(\"Test data with bias shape:{}\".format(X_test_withbias.shape))\n",
    "print(\"Development data with bias shape:{}\".format(X_devel_withbias.shape))"
   ]
  },
  {
   "cell_type": "code",
   "execution_count": 9,
   "metadata": {},
   "outputs": [
    {
     "name": "stdout",
     "output_type": "stream",
     "text": [
      "WARNING:tensorflow:From <ipython-input-2-c0c05c3fe753>:14: softmax_cross_entropy_with_logits (from tensorflow.python.ops.nn_ops) is deprecated and will be removed in a future version.\n",
      "Instructions for updating:\n",
      "\n",
      "Future major versions of TensorFlow will allow gradients to flow\n",
      "into the labels input on backprop by default.\n",
      "\n",
      "See @{tf.nn.softmax_cross_entropy_with_logits_v2}.\n",
      "\n"
     ]
    }
   ],
   "source": [
    "beta=0.01\n",
    "n_inputs = 100\n",
    "logdir = \"./inc_lr_logs\"\n",
    "n_classes=y_train.shape[1]\n",
    "X = tf.placeholder(tf.float32, shape=(None, n_inputs + 1), name=\"X\")\n",
    "y = tf.placeholder(tf.float32, shape=(None, n_classes), name=\"y\")\n",
    "loss, training_op, merged, init, saver,logits = logistic_regression(X, y,n_classes)\n",
    "train_writer = tf.summary.FileWriter(logdir+\"/train\", tf.get_default_graph())\n",
    "test_writer=tf.summary.FileWriter(logdir+\"/test\")\n",
    "devel_writer=tf.summary.FileWriter(logdir+\"/devel\")"
   ]
  },
  {
   "cell_type": "code",
   "execution_count": 10,
   "metadata": {},
   "outputs": [],
   "source": [
    "def calculateScores(logits,y):\n",
    "    max_scores_indices=np.argmax(logits,axis=1)\n",
    "    n_examples=logits.shape[0]\n",
    "    predictions=np.zeros_like(logits,dtype=np.int)\n",
    "    predictions[range(n_examples),max_scores_indices]=1\n",
    "    del logits\n",
    "    accuracy=accuracy_score(y,predictions)\n",
    "    precision=precision_score(y,predictions,average=\"macro\")\n",
    "    recall=recall_score(y,predictions,average='macro')\n",
    "    return accuracy,precision,recall"
   ]
  },
  {
   "cell_type": "code",
   "execution_count": 11,
   "metadata": {},
   "outputs": [
    {
     "name": "stdout",
     "output_type": "stream",
     "text": [
      "Epoch: 0 \tTest Loss: 14.145209 \t Devel Loss: 14.139806 \tTrain Loss: 10.666677\n",
      "Epoch: 100 \tTest Loss: 17.08772 \t Devel Loss: 17.07053 \tTrain Loss: 21.046572\n",
      "Epoch: 200 \tTest Loss: nan \t Devel Loss: nan \tTrain Loss: nan\n",
      "Epoch: 300 \tTest Loss: nan \t Devel Loss: nan \tTrain Loss: nan\n",
      "Epoch: 400 \tTest Loss: nan \t Devel Loss: nan \tTrain Loss: nan\n",
      "Epoch: 500 \tTest Loss: nan \t Devel Loss: nan \tTrain Loss: nan\n",
      "Epoch: 600 \tTest Loss: nan \t Devel Loss: nan \tTrain Loss: nan\n",
      "Epoch: 700 \tTest Loss: nan \t Devel Loss: nan \tTrain Loss: nan\n",
      "Epoch: 800 \tTest Loss: nan \t Devel Loss: nan \tTrain Loss: nan\n",
      "Epoch: 900 \tTest Loss: nan \t Devel Loss: nan \tTrain Loss: nan\n",
      "Epoch: 1000 \tTest Loss: nan \t Devel Loss: nan \tTrain Loss: nan\n",
      "Time taken for training:  62.47200322151184\n",
      "Time taken for testing phase: 0.022680282592773438\n",
      "Test Set Scores\n",
      "\n",
      "Test Accuracy: 0.0015015015015015015 Test Precision: 3.0642887785744925e-05 Test Recall: 0.02040816326530612 \n",
      "\n",
      "Development Set Scores\n",
      "\n",
      "Dev Accuracy: 0.0015015015015015015 Dev Precision: 3.0642887785744925e-05 Dev Recall: 0.02040816326530612\n"
     ]
    },
    {
     "name": "stderr",
     "output_type": "stream",
     "text": [
      "/usr/local/lib/python3.6/dist-packages/sklearn/metrics/classification.py:1135: UndefinedMetricWarning: Precision is ill-defined and being set to 0.0 in labels with no predicted samples.\n",
      "  'precision', 'predicted', average, warn_for)\n",
      "/usr/local/lib/python3.6/dist-packages/sklearn/metrics/classification.py:1137: UndefinedMetricWarning: Recall is ill-defined and being set to 0.0 in labels with no true samples.\n",
      "  'recall', 'true', average, warn_for)\n"
     ]
    }
   ],
   "source": [
    "m=X_train.shape[0]\n",
    "n_epochs = 1001\n",
    "batch_size = 100\n",
    "n_batches = int(np.ceil(m / batch_size))\n",
    "checkpoint_path = \"/tmp/logistic_regressionl2.ckpt\"\n",
    "checkpoint_epoch_path = checkpoint_path + \".epoch\"\n",
    "final_model_path = \"./my_logreg_model\"\n",
    "\n",
    "with tf.Session() as sess:\n",
    "    if os.path.isfile(checkpoint_epoch_path):\n",
    "        # if the checkpoint file exists, restore the model and load the epoch number\n",
    "        with open(checkpoint_epoch_path, \"rb\") as f:\n",
    "            start_epoch = int(f.read())\n",
    "        print(\"Training was interrupted. Continuing at epoch\", start_epoch)\n",
    "        saver.restore(sess, checkpoint_path)\n",
    "    else:\n",
    "        start_epoch = 0\n",
    "        sess.run(init)\n",
    "    train_start_time=time.time()\n",
    "    for epoch in range(start_epoch, n_epochs):\n",
    "        for batch_index in range(n_batches):\n",
    "            X_batch, y_batch = random_batch(X_train_withbias, y_train, batch_size)\n",
    "            sess.run(training_op, feed_dict={X: X_batch, y: y_batch})\n",
    "        test_loss,summary_test = sess.run([loss,merged], feed_dict={X: X_test_withbias, y: y_test})\n",
    "        test_writer.add_summary(summary_test, epoch)\n",
    "        devel_loss,summary_devel=sess.run([loss,merged],feed_dict={X:X_devel_withbias,y:y_devel})\n",
    "        devel_writer.add_summary(summary_devel,epoch)\n",
    "        if epoch % 100 == 0:\n",
    "            train_loss,summary_train=sess.run([loss,merged],feed_dict={X:X_train_withbias,y:y_train})\n",
    "            train_writer.add_summary(summary_train,epoch)\n",
    "            print(\"Epoch:\", epoch, \"\\tTest Loss:\", test_loss,\"\\t Devel Loss:\",\n",
    "                  devel_loss,\"\\tTrain Loss:\",train_loss)\n",
    "            saver.save(sess, checkpoint_path)\n",
    "            with open(checkpoint_epoch_path, \"wb\") as f:\n",
    "                f.write(b\"%d\" % (epoch + 1))\n",
    "    train_end_time=time.time()\n",
    "    print(\"Time taken for training: \",train_end_time-train_start_time)\n",
    "    saver.save(sess, final_model_path)\n",
    "    os.remove(checkpoint_epoch_path)\n",
    "    test_start_time=time.time()\n",
    "    test_logits=sess.run(logits,feed_dict={X:X_test_withbias})\n",
    "    devel_logits=sess.run(logits,feed_dict={X:X_devel_withbias})\n",
    "    (test_accuracy,test_precision,test_recall)=calculateScores(np.array(test_logits),y_test)\n",
    "    (devel_accuracy,devel_precision,devel_recall)=calculateScores(np.array(devel_logits),y_devel)\n",
    "    test_end_time=time.time()\n",
    "    print(\"Time taken for testing phase:\",test_end_time-test_start_time)\n",
    "    print(\"Test Set Scores\\n\")\n",
    "    print(\"Test Accuracy:\",test_accuracy,\"Test Precision:\",test_precision,\"Test Recall:\",test_recall,\"\\n\")\n",
    "    print(\"Development Set Scores\\n\")\n",
    "    print(\"Dev Accuracy:\",devel_accuracy,\"Dev Precision:\",devel_precision,\"Dev Recall:\",devel_recall)"
   ]
  },
  {
   "cell_type": "code",
   "execution_count": null,
   "metadata": {},
   "outputs": [],
   "source": []
  }
 ],
 "metadata": {
  "kernelspec": {
   "display_name": "Python 3",
   "language": "python",
   "name": "python3"
  },
  "language_info": {
   "codemirror_mode": {
    "name": "ipython",
    "version": 3
   },
   "file_extension": ".py",
   "mimetype": "text/x-python",
   "name": "python",
   "nbconvert_exporter": "python",
   "pygments_lexer": "ipython3",
   "version": "3.6.6"
  }
 },
 "nbformat": 4,
 "nbformat_minor": 2
}
